{
 "cells": [
  {
   "cell_type": "code",
   "execution_count": null,
   "metadata": {},
   "outputs": [],
   "source": [
    "import random\n",
    "from libs.node import Node\n",
    "from libs.node import Station\n",
    "from libs.node import StationDcf\n",
    "from libs.node import StationRl\n",
    "from libs.channel import Channel\n",
    "from tqdm import tqdm\n",
    "from config import Config\n",
    "from libs.allocateModel import Allocator\n",
    "import matplotlib.pyplot as plt"
   ]
  },
  {
   "cell_type": "markdown",
   "metadata": {},
   "source": [
    "## Cofigure the simulation parameter"
   ]
  },
  {
   "cell_type": "code",
   "execution_count": null,
   "metadata": {},
   "outputs": [],
   "source": [
    "cfg = Config()\n",
    "global_time = 0\n",
    "channel = Channel(global_time, [])\n",
    "\n",
    "station_num = 5\n",
    "data_rate = 6  # Mbps\n",
    "# All the lengeth is a mutible of slot\n",
    "\n",
    "# incule header\n",
    "pkt_len = 1560\n",
    "# us\n",
    "slot_len = 10\n",
    "sifs = 2\n",
    "ack_len = 2 + sifs\n",
    "difs = 4\n",
    "timeout = ack_len\n",
    "\n",
    "frame_len = pkt_len * 8 / slot_len / data_rate\n",
    "stations_list = []\n",
    "current_througput = []\n",
    "total_time = 0\n"
   ]
  },
  {
   "cell_type": "markdown",
   "metadata": {},
   "source": [
    "## Initialize the stations"
   ]
  },
  {
   "cell_type": "code",
   "execution_count": null,
   "metadata": {},
   "outputs": [],
   "source": [
    "for i in range(station_num):\n",
    "    if cfg.stationType == \"Dcf\":\n",
    "        station = StationDcf(i, frame_len, channel,\n",
    "                             global_time, i, timeout, ack_len, difs, sifs)\n",
    "    elif cfg.stationType == \"RL\":\n",
    "        station = StationRl(i, frame_len, channel,\n",
    "                            global_time, i, timeout, ack_len, (i+1))\n",
    "    stations_list.append(station)\n",
    "    current_througput.append([0])\n",
    "allocator = Allocator(stations_list, cfg)"
   ]
  },
  {
   "cell_type": "markdown",
   "metadata": {},
   "source": [
    "## Simulate"
   ]
  },
  {
   "cell_type": "code",
   "execution_count": null,
   "metadata": {},
   "outputs": [],
   "source": [
    "if cfg.stationType == \"Dcf\":\n",
    "    startEpoch = 0\n",
    "elif cfg.stationType == \"RL\":\n",
    "    startEpoch = stations_list[0].epoch\n",
    "\n",
    "print(\"==> startEpoch: \", startEpoch)\n",
    "for i in tqdm(range(startEpoch, startEpoch+cfg.NUM_EPOCHS)):\n",
    "    for station in stations_list:\n",
    "        station.simulate(global_time)\n",
    "        k = station.u_id\n",
    "        if channel.time > global_time:\n",
    "            current_througput[k].append(station.total_pkt_time* data_rate * 1500 / 1560/(channel.time+1))\n",
    "        else:\n",
    "            current_througput[k].append(station.total_pkt_time* data_rate * 1500 / 1560/(global_time+1))\n",
    "    global_time = global_time + 1\n",
    "    channel.update_state(global_time)\n",
    "\n",
    "    if cfg.shuffleStationList:\n",
    "        random.shuffle(stations_list)\n",
    "        \n",
    "    if i % cfg.allocate_iter == 0 and i > startEpoch+cfg.startAllocationEpoch:\n",
    "        # print(\"==> allocate model\")\n",
    "        allocator.allocateModel()\n",
    "\n",
    "for station in stations_list:\n",
    "    total_time += station.total_pkt_time\n",
    "    if cfg.saveModel and cfg.stationType == \"RL\":\n",
    "        station.saveModel()\n",
    "if cfg.saveModel:\n",
    "    allocator.saveBestModel()\n",
    "    \n",
    "print(\"==> total_time:\", total_time)\n",
    "total_time_channel = 0"
   ]
  },
  {
   "cell_type": "markdown",
   "metadata": {},
   "source": [
    "## Generate the throughput"
   ]
  },
  {
   "cell_type": "code",
   "execution_count": null,
   "metadata": {},
   "outputs": [],
   "source": [
    "for i in range(len(channel.start)):\n",
    "    # if(i > 0):\n",
    "    #     if ((channel.start[i] - channel.end[i-1]) < 4):\n",
    "    #         continue\n",
    "    if(i > 0):\n",
    "        if ((channel.start[i] - channel.start[i-1]) < frame_len):\n",
    "            continue\n",
    "    total_time_channel += frame_len\n",
    "\n",
    "print(\"==> total_time_channel:\", total_time_channel)\n",
    "print(\"==> channel time:\", channel.time)\n",
    "\n",
    "try:\n",
    "    throughput = total_time/channel.time * data_rate * 1500 / 1560\n",
    "    print(\"==> throughput:\", throughput)\n",
    "except:\n",
    "    print(\"can't calculate throughput: division by zero\")\n",
    "\n",
    "for station in stations_list:\n",
    "    print(\"station.Id:{}, station.total_pkt_time:{}\".format(\n",
    "        station.Id, station.total_pkt_time))"
   ]
  },
  {
   "cell_type": "code",
   "execution_count": null,
   "metadata": {},
   "outputs": [],
   "source": [
    "plt.plot(current_througput[0],label='User1')\n",
    "plt.plot(current_througput[1],label='User2')\n",
    "plt.plot(current_througput[2],label='User3')\n",
    "plt.plot(current_througput[3],label='User4')\n",
    "plt.plot(current_througput[4],label='User5')\n",
    "plt.xlabel('Simulation Time')\n",
    "plt.ylabel('Throughput Mbps')\n",
    "plt.legend()\n",
    "plt.savefig('tpt_all.eps',dpi=1000,format='eps')\n",
    "#plt.scatter(x, y, color='r')"
   ]
  },
  {
   "cell_type": "code",
   "execution_count": null,
   "metadata": {},
   "outputs": [],
   "source": []
  }
 ],
 "metadata": {
  "kernelspec": {
   "display_name": "Python 3.7.5 64-bit ('pytorch_env': conda)",
   "language": "python",
   "name": "python37564bitpytorchenvconda9b9e9e3289194213b01eef95834dc720"
  },
  "language_info": {
   "codemirror_mode": {
    "name": "ipython",
    "version": 3
   },
   "file_extension": ".py",
   "mimetype": "text/x-python",
   "name": "python",
   "nbconvert_exporter": "python",
   "pygments_lexer": "ipython3",
   "version": "3.7.5"
  }
 },
 "nbformat": 4,
 "nbformat_minor": 2
}
