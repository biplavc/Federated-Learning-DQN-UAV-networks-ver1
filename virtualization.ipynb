{
 "cells": [
  {
   "cell_type": "code",
   "execution_count": null,
   "metadata": {},
   "outputs": [],
   "source": [
    "import random\n",
    "from libs.node import Node\n",
    "from libs.node import Station\n",
    "from libs.node import StationDcf\n",
    "from libs.node import StationRl\n",
    "from libs.channel import Channel\n",
    "from tqdm import tqdm\n",
    "from config import Config\n",
    "import matplotlib.pyplot as plt"
   ]
  },
  {
   "cell_type": "code",
   "execution_count": null,
   "metadata": {},
   "outputs": [],
   "source": [
    "cfg = Config()\n",
    "global_time = 0\n",
    "channel = Channel(global_time, [])\n",
    "\n",
    "station_num = 5\n",
    "data_rate = 6 #Mbps\n",
    "#All the lengeth is a mutible of slot\n",
    "\n",
    "#incule header\n",
    "pkt_len = 1560\n",
    "#us\n",
    "slot_len = 10\n",
    "sifs = 2\n",
    "ack_len = 2 + sifs\n",
    "difs = 4\n",
    "timeout = ack_len\n",
    "\n",
    "frame_len = pkt_len * 8 / slot_len / data_rate\n",
    "stations_list = []\n",
    "total_time = 0\n",
    "\n",
    "#station = StationDcf(i+1, frame_len, channel, global_time, i+1, timeout, ack_len, difs, sifs)\n",
    "#stations_list.append(station)\n",
    "\n",
    "for i in range(station_num):\n",
    "    if cfg.stationType == \"Dcf\":\n",
    "        station = StationDcf(i, frame_len, channel, global_time, i, timeout, ack_len, difs, sifs)\n",
    "    elif cfg.stationType == \"RL\":\n",
    "        station = StationRl(i, frame_len, channel, global_time, i, timeout, ack_len, (i+1))\n",
    "    stations_list.append(station)"
   ]
  },
  {
   "cell_type": "code",
   "execution_count": null,
   "metadata": {},
   "outputs": [],
   "source": [
    "stations_list"
   ]
  },
  {
   "cell_type": "code",
   "execution_count": null,
   "metadata": {},
   "outputs": [],
   "source": [
    "if cfg.stationType == \"Dcf\":\n",
    "    startEpoch = 0\n",
    "elif cfg.stationType == \"RL\":\n",
    "    startEpoch = stations_list[0].epoch\n",
    "\n",
    "print(\"==> startEpoch: \", startEpoch)\n",
    "for i in tqdm(range(startEpoch, startEpoch+cfg.NUM_EPOCHS)):\n",
    "    for station in stations_list:\n",
    "        station.simulate(global_time)\n",
    "    global_time = global_time + 1\n",
    "    channel.update_state(global_time)\n",
    "\n",
    "    if cfg.shuffleStationList:\n",
    "        random.shuffle(stations_list)\n",
    "\n",
    "for station in stations_list:\n",
    "    total_time += station.total_pkt_time\n",
    "\n",
    "    if cfg.stationType == \"RL\":\n",
    "        station.saveModel()\n",
    "print(\"==> total_time:\", total_time)\n",
    "total_time_channel = 0\n",
    "for i in range(len(channel.start) ):\n",
    "    if(i > 0):\n",
    "        if ((channel.start[i] - channel.start[i-1]) < frame_len):\n",
    "            continue\n",
    "    total_time_channel += frame_len\n",
    "print(\"==> total_time_channel:\", total_time_channel)\n",
    "print(\"==> channel time:\", channel.time)\n",
    "throughput = total_time/channel.time * data_rate * 1500 / 1560\n",
    "print(\"==> throughput:\", throughput)"
   ]
  },
  {
   "cell_type": "code",
   "execution_count": null,
   "metadata": {},
   "outputs": [],
   "source": [
    "for i in range(len(channel.start)):\n",
    "    x=[channel.start[i], channel.end[i]]\n",
    "    y= [channel.operator[i], channel.operator[i]]\n",
    "    plt.plot(x, y, color='b')\n",
    "    plt.scatter(x, y, color='r')"
   ]
  },
  {
   "cell_type": "code",
   "execution_count": null,
   "metadata": {},
   "outputs": [],
   "source": [
    "k = len(channel.start) - 1\n",
    "for i in range(10):\n",
    "    x=[channel.start[k - i], channel.end[k - i]]\n",
    "    print(x)\n",
    "    y= [channel.operator[k - i], channel.operator[k - i]]\n",
    "    print(y)\n",
    "    plt.plot(x, y, color='b')\n",
    "    plt.scatter(x, y, color='r')"
   ]
  }
 ],
 "metadata": {
  "kernelspec": {
   "display_name": "Python 3",
   "language": "python",
   "name": "python3"
  },
  "language_info": {
   "codemirror_mode": {
    "name": "ipython",
    "version": 3
   },
   "file_extension": ".py",
   "mimetype": "text/x-python",
   "name": "python",
   "nbconvert_exporter": "python",
   "pygments_lexer": "ipython3",
   "version": "3.7.4"
  }
 },
 "nbformat": 4,
 "nbformat_minor": 2
}
